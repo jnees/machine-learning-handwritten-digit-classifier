{
 "cells": [
  {
   "cell_type": "markdown",
   "metadata": {},
   "source": [
    "# Machine Learning - Handwritten Digits Classifier\n",
    "\n",
    "This is a DataQuest guided machine learning project with the following goal of comparing the k-nearest neighbors algorithm to a MLP neural network model on the task of classifying images of hand-written digits.\n",
    "\n",
    "The dataset being used is the [hand-written digits dataset](http://archive.ics.uci.edu/ml/datasets/Optical+Recognition+of+Handwritten+Digits) from UCI, which is bundled with Scikit-learn. It includes 1797 samples from the original dataset and their labels. \n",
    "\n",
    "Each sample in the set includes 64 features which describe the grayscale values for each pixel in the 8x8 image of a handwritten letter."
   ]
  },
  {
   "cell_type": "markdown",
   "metadata": {},
   "source": [
    "# Libraries"
   ]
  },
  {
   "cell_type": "code",
   "execution_count": 1,
   "metadata": {},
   "outputs": [],
   "source": [
    "from sklearn.datasets import load_digits\n",
    "import pandas as pd\n",
    "import matplotlib.pyplot as plt\n",
    "%matplotlib inline\n",
    "import numpy as np\n",
    "from numpy import random\n",
    "from sklearn.model_selection import KFold\n",
    "from sklearn.metrics import accuracy_score\n",
    "from sklearn.neighbors import KNeighborsClassifier\n",
    "from sklearn.neural_network import MLPClassifier"
   ]
  },
  {
   "cell_type": "markdown",
   "metadata": {},
   "source": [
    "# Data"
   ]
  },
  {
   "cell_type": "code",
   "execution_count": 2,
   "metadata": {
    "scrolled": true
   },
   "outputs": [
    {
     "name": "stdout",
     "output_type": "stream",
     "text": [
      "(1797, 64)\n",
      "[0 1 2 3 4 5 6 7 8 9]\n"
     ]
    }
   ],
   "source": [
    "#Import Dataset from sklearn\n",
    "image_dict = load_digits()\n",
    "\n",
    "#print shape and possible labels\n",
    "print(image_dict.data.shape)\n",
    "print(image_dict.target_names)\n",
    "\n",
    "#Load Dataframe\n",
    "df = pd.DataFrame(image_dict.data)\n",
    "labels = pd.Series(image_dict.target)\n",
    "df['label'] = labels\n"
   ]
  },
  {
   "cell_type": "markdown",
   "metadata": {},
   "source": [
    "# Example Images\n",
    "\n",
    "Below are samples of hand-written digits from the dataset. I have set the random_state to 3 to highlight a few of the many nuances in the data;\n",
    "1. Some zeros do not fully connect.\n",
    "2. Ones could be a straight line or have a sarif.\n",
    "3. Sixes, eights, and nines all have inconsistant loop sizes.\n",
    "4. Sevens may or may not be crossed.\n",
    "5. Nines sometimes look like the letter g with a curly line.\n",
    "\n",
    "\n",
    "A clear issue in creating a classifier for this dataset is that the digits are non-linear. The model/algorithm must be adept at finding non-linear patterns in the data."
   ]
  },
  {
   "cell_type": "code",
   "execution_count": 3,
   "metadata": {},
   "outputs": [
    {
     "data": {
      "image/png": "[encoded data removed]",
      "text/plain": [
       "<Figure size 864x1080 with 60 Axes>"
      ]
     },
     "metadata": {
      "needs_background": "light"
     },
     "output_type": "display_data"
    }
   ],
   "source": [
    "fig, axs = plt.subplots(nrows=10, ncols=6, \n",
    "                        sharex=True, sharey=True, \n",
    "                        figsize=(12, 15))\n",
    "for nbr in image_dict.target_names:\n",
    "    sample = df[df['label'] == nbr].sample(6, random_state=3)\n",
    "    sample = sample.drop('label', axis=1)\n",
    "    sample = sample.reset_index(drop=True)\n",
    "\n",
    "    for i in range(6):\n",
    "        image = sample.iloc[i,:]\n",
    "        np_image = image.values\n",
    "        np_image = np_image.reshape(8, 8)\n",
    "        axs[nbr, i].imshow(np_image, cmap='gray_r')\n",
    "        \n",
    "plt.subplots_adjust(wspace=0.05, hspace=0.2)"
   ]
  },
  {
   "cell_type": "markdown",
   "metadata": {},
   "source": [
    "# K-Nearest Neighbors Approach\n",
    "\n",
    "The first algorithm that I'm testing will be KNN. This model has a chance at succeeding because it makes no assumptions about linearity and it is not trying to fit the data to a linear model. Instead, it will find the most similar cases to a test case in the training data and use their labels to infer the test case label.\n",
    "\n",
    "My assumption is that this approach will work reasonably well with certain numbers, like zero, which are clearly different from the others, but struggle with numbers that have more similar neighbors, like 3, 8, and 9.\n",
    "\n",
    "### Result\n",
    "\n",
    "The KNN algorithm performed reasonably well, achieving a 98.6% accuracy rate. Looking at examples of errors that the classifier made, labels 4 and 8 were the most problematic. The 8s that were missed typically had their lower loop filled in and were mistaken for 1s. The 4s that were missed had lines that slanted to the left or tops that were nearly closed loops and were mistaken for 7s or 9s."
   ]
  },
  {
   "cell_type": "code",
   "execution_count": 4,
   "metadata": {},
   "outputs": [],
   "source": [
    "#training function\n",
    "def train_test_knn(dataframe, n):\n",
    "    data = dataframe.copy()\n",
    "    \n",
    "    #cross validator setup\n",
    "    kf = KFold(n_splits=4, shuffle=True, random_state=1)\n",
    "    errors = []\n",
    "    \n",
    "    for train_index, test_index in kf.split(df):\n",
    "        #partition\n",
    "        train = data.iloc[train_index]\n",
    "        test = data.iloc[test_index]\n",
    "        \n",
    "        #define features, label\n",
    "        feature_index = list(data.columns)\n",
    "        feature_index.remove('label')\n",
    "        train_features = train[feature_index]\n",
    "        train_label = train['label']\n",
    "        test_features = test[feature_index]\n",
    "        test_label = test['label']\n",
    "        \n",
    "        #fit model\n",
    "        knn = KNeighborsClassifier(n_neighbors=n, algorithm='auto')\n",
    "        knn.fit(train_features, train_label)\n",
    "        \n",
    "        #predict and measure error\n",
    "        predictions = knn.predict(test_features)\n",
    "        errors.append(accuracy_score(y_true=test_label, y_pred=predictions))\n",
    "\n",
    "    return sum(errors) / len(errors)\n",
    "\n",
    "def knn_example_errors(dataframe):\n",
    "    data = dataframe.copy()\n",
    "    data = data.sample(frac=1, random_state=1)\n",
    "    last_row = int(data.shape[0] * .75)\n",
    "    \n",
    "    #partition\n",
    "    train = data[:last_row].copy()\n",
    "    test = data[last_row:].copy()\n",
    "\n",
    "    #define features, label\n",
    "    feature_index = list(data.columns)\n",
    "    feature_index.remove('label')\n",
    "    train_features = train[feature_index]\n",
    "    train_label = train['label']\n",
    "    test_features = test[feature_index]\n",
    "    test_label = test['label']\n",
    "\n",
    "    #fit model\n",
    "    knn = KNeighborsClassifier(n_neighbors=3, algorithm='auto')\n",
    "    knn.fit(train_features, train_label)\n",
    "\n",
    "    #predict and measure error\n",
    "    test['predictions'] = knn.predict(test_features)\n",
    "    error_examples = test[~(test['predictions'] == test['label'])]\n",
    "    \n",
    "    return error_examples\n"
   ]
  },
  {
   "cell_type": "code",
   "execution_count": 5,
   "metadata": {},
   "outputs": [
    {
     "name": "stdout",
     "output_type": "stream",
     "text": [
      "k=2: 98.1%\n",
      "k=3: 98.6%\n",
      "k=4: 98.5%\n",
      "k=5: 98.3%\n",
      "k=6: 98.1%\n",
      "k=7: 98.2%\n"
     ]
    }
   ],
   "source": [
    "#grid search k, print error rates for model.\n",
    "for i in range(2, 8):\n",
    "    print(\"k={}: {}%\".format(i, round(train_test_knn(df, n=i), 3) * 100))"
   ]
  },
  {
   "cell_type": "code",
   "execution_count": 6,
   "metadata": {},
   "outputs": [
    {
     "data": {
      "image/png": "[encoded data removed]",
      "text/plain": [
       "<Figure size 864x288 with 7 Axes>"
      ]
     },
     "metadata": {
      "needs_background": "light"
     },
     "output_type": "display_data"
    }
   ],
   "source": [
    "#Example errors\n",
    "error_examples = knn_example_errors(df)\n",
    "error_examples = error_examples.reset_index(drop=True)\n",
    "\n",
    "#plot missed images\n",
    "fig, axs = plt.subplots(nrows=1, ncols=7, \n",
    "                        sharex=True, sharey=True, \n",
    "                        figsize=(12, 4))\n",
    "for i in range(error_examples.shape[0]):\n",
    "    image = error_examples.iloc[i,:]\n",
    "    label = image['label']\n",
    "    prediction = image['predictions']\n",
    "    image = image.drop(['label', 'predictions'])\n",
    "    np_image = image.values\n",
    "    np_image = np_image.reshape(8, 8)\n",
    "    axs[i].imshow(np_image, cmap='gray_r')\n",
    "    axs[i].text(x=1, y=10, s=\"label: {}\".format(label))\n",
    "    axs[i].text(x=1, y=11, s=\"predicted: {}\".format(prediction), color='red')\n",
    "        \n",
    "plt.subplots_adjust(wspace=0.05)"
   ]
  },
  {
   "cell_type": "markdown",
   "metadata": {
    "collapsed": true
   },
   "source": [
    "# Neural Network Models\n",
    "\n",
    "While the KNN model was fairly accurate, there is still room for improvement in both accuracy and efficiency. In terms of efficiency, an algorithm that creates a model representation may be an improvement as it does not require the set to be rescanned for each new test case. This would allow the model to be used on a much larger datasets and in real time more efficiently.\n",
    "\n",
    "The next models that I am testing are Multi-layer Perception (MLP) neural networks with various parameters (neuron and layer counts). I will again be using KFolds cross-validation to help minimize overfitting. Additionally, I have added a printout of the test and train results for each fold so we can see where, if anywhere, overfitting is occuring.\n",
    "\n",
    "#### Results\n",
    "\n",
    "The neural network models that I tested did not quite reach the accuracy of the KNN algorithm. The best model, a single layer with 64 nodes, returned predictions with 98.1% accuracy."
   ]
  },
  {
   "cell_type": "markdown",
   "metadata": {},
   "source": [
    "#### Train and Test Function"
   ]
  },
  {
   "cell_type": "code",
   "execution_count": 7,
   "metadata": {},
   "outputs": [],
   "source": [
    "def nn_train_test(dataframe, hidden_layer_sizes, alpha):\n",
    "    data = dataframe.copy()\n",
    "    \n",
    "    #validator and error list\n",
    "    kf = KFold(n_splits=8, random_state=1, shuffle=True)\n",
    "    test_errors = []\n",
    "    train_errors = []\n",
    "    \n",
    "    for train_index, test_index in kf.split(data):\n",
    "        #partition\n",
    "        train = data.iloc[train_index]\n",
    "        test = data.iloc[test_index]\n",
    "        \n",
    "        #define features, label\n",
    "        feature_index = list(data.columns)\n",
    "        feature_index.remove('label')\n",
    "        train_features = train[feature_index]\n",
    "        train_labels = train['label']\n",
    "        test_features = test[feature_index]\n",
    "        test_labels = test['label']\n",
    "        \n",
    "        #instantiate model and train\n",
    "        clf = MLPClassifier(alpha=alpha, hidden_layer_sizes=hidden_layer_sizes, max_iter=10000, activation='relu')\n",
    "        clf.fit(train_features, train_labels)\n",
    "        \n",
    "        #Predict on test and training sets\n",
    "        test_predictions = clf.predict(test_features)\n",
    "        train_predictions = clf.predict(train_features)\n",
    "        \n",
    "        #Measure test and training prediction errors\n",
    "        test_errors.append(accuracy_score(test_labels, test_predictions))\n",
    "        train_errors.append(accuracy_score(train_labels, train_predictions))\n",
    "        \n",
    "        #Track error examples\n",
    "        #error_examples.append\n",
    "    \n",
    "    #return average errors\n",
    "    avg_test_err = sum(test_errors) / len(test_errors)\n",
    "    avg_train_err = sum(train_errors) / len(train_errors)\n",
    "    \n",
    "    return avg_train_err, avg_test_err\n"
   ]
  },
  {
   "cell_type": "markdown",
   "metadata": {},
   "source": [
    "#### Single Hidden Layer Models"
   ]
  },
  {
   "cell_type": "code",
   "execution_count": 8,
   "metadata": {
    "scrolled": true
   },
   "outputs": [
    {
     "name": "stdout",
     "output_type": "stream",
     "text": [
      "(0.994754789797295, 0.9426736111111111)\n",
      "(1.0, 0.9632738095238095)\n",
      "(1.0, 0.9688442460317461)\n",
      "(1.0, 0.9693998015873015)\n",
      "(1.0, 0.978298611111111)\n",
      "(1.0, 0.9816344246031746)\n",
      "(1.0, 0.9816369047619047)\n",
      "(1.0, 0.9838591269841269)\n"
     ]
    }
   ],
   "source": [
    "#hidden layer sizes grid\n",
    "one_layer = [(8,), \n",
    "             (16,), \n",
    "             (32,), \n",
    "             (64,),\n",
    "             (128,),\n",
    "             (256,),\n",
    "             (512,),\n",
    "             (1028,)\n",
    "            ]\n",
    "\n",
    "#grid search and print error rates\n",
    "for hls in one_layer:\n",
    "    print(nn_train_test(df, hidden_layer_sizes=hls, alpha=.0004))"
   ]
  },
  {
   "cell_type": "markdown",
   "metadata": {},
   "source": [
    "#### Two Hidden Layer Models"
   ]
  },
  {
   "cell_type": "code",
   "execution_count": 9,
   "metadata": {
    "scrolled": true
   },
   "outputs": [
    {
     "name": "stdout",
     "output_type": "stream",
     "text": [
      "(1.0, 0.9766369047619048)\n",
      "(1.0, 0.9788640873015872)\n",
      "(1.0, 0.9771850198412699)\n",
      "(1.0, 0.9805233134920636)\n",
      "(1.0, 0.9838640873015874)\n"
     ]
    }
   ],
   "source": [
    "#hidden layer sizes grid\n",
    "one_layer = [(64, 64),\n",
    "             (128, 128),\n",
    "             (256, 256),\n",
    "             (512, 512),\n",
    "             (1024, 1024)\n",
    "            ]\n",
    "\n",
    "#grid search and print error rates\n",
    "for hls in one_layer:\n",
    "    print(nn_train_test(df, hidden_layer_sizes=hls, alpha=.0128))"
   ]
  },
  {
   "cell_type": "markdown",
   "metadata": {},
   "source": [
    "#### Three Hidden Layer Models"
   ]
  },
  {
   "cell_type": "code",
   "execution_count": 10,
   "metadata": {},
   "outputs": [
    {
     "name": "stdout",
     "output_type": "stream",
     "text": [
      "(0.9997615009325627, 0.9326785714285716)\n",
      "(1.0, 0.9727281746031746)\n",
      "(1.0, 0.9799652777777778)\n",
      "(1.0, 0.9833035714285715)\n"
     ]
    }
   ],
   "source": [
    "#hidden layer sizes grid\n",
    "one_layer = [(10, 10, 10), \n",
    "             (64, 64, 64),  \n",
    "             (128, 128, 128),\n",
    "             (256, 256, 256)\n",
    "            ]\n",
    "\n",
    "#grid search and print error rates\n",
    "for hls in one_layer:\n",
    "    print(nn_train_test(df, hidden_layer_sizes=hls, alpha=.0128))"
   ]
  },
  {
   "cell_type": "code",
   "execution_count": null,
   "metadata": {},
   "outputs": [],
   "source": []
  },
  {
   "cell_type": "code",
   "execution_count": null,
   "metadata": {},
   "outputs": [],
   "source": []
  }
 ],
 "metadata": {
  "anaconda-cloud": {},
  "kernelspec": {
   "display_name": "Python 3",
   "language": "python",
   "name": "python3"
  },
  "language_info": {
   "codemirror_mode": {
    "name": "ipython",
    "version": 3
   },
   "file_extension": ".py",
   "mimetype": "text/x-python",
   "name": "python",
   "nbconvert_exporter": "python",
   "pygments_lexer": "ipython3",
   "version": "3.7.3"
  }
 },
 "nbformat": 4,
 "nbformat_minor": 2
}
